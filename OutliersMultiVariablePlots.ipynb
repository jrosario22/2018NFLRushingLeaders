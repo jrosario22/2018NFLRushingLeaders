{
 "cells": [
  {
   "cell_type": "code",
   "execution_count": 1,
   "metadata": {},
   "outputs": [],
   "source": [
    "import matplotlib.pyplot as plt\n",
    "import pandas as pd\n",
    "import statsmodels.formula.api as smf\n",
    "import seaborn as sns\n",
    "import numpy as np\n",
    "import scipy.stats as stats\n",
    "import math\n",
    "\n",
    "%matplotlib inline"
   ]
  },
  {
   "cell_type": "code",
   "execution_count": 2,
   "metadata": {},
   "outputs": [],
   "source": [
    "rushing = pd.read_csv(\"2018_NFL_Rushing_Stats.csv\")"
   ]
  },
  {
   "cell_type": "code",
   "execution_count": 3,
   "metadata": {},
   "outputs": [
    {
     "data": {
      "text/html": [
       "<div>\n",
       "<style scoped>\n",
       "    .dataframe tbody tr th:only-of-type {\n",
       "        vertical-align: middle;\n",
       "    }\n",
       "\n",
       "    .dataframe tbody tr th {\n",
       "        vertical-align: top;\n",
       "    }\n",
       "\n",
       "    .dataframe thead th {\n",
       "        text-align: right;\n",
       "    }\n",
       "</style>\n",
       "<table border=\"1\" class=\"dataframe\">\n",
       "  <thead>\n",
       "    <tr style=\"text-align: right;\">\n",
       "      <th></th>\n",
       "      <th>Rk</th>\n",
       "      <th>Player</th>\n",
       "      <th>Tm</th>\n",
       "      <th>Age</th>\n",
       "      <th>Pos</th>\n",
       "      <th>G</th>\n",
       "      <th>GS</th>\n",
       "      <th>Att</th>\n",
       "      <th>Yds</th>\n",
       "      <th>TD</th>\n",
       "      <th>Lng</th>\n",
       "      <th>Y/A</th>\n",
       "      <th>Y/G</th>\n",
       "      <th>Fmb</th>\n",
       "    </tr>\n",
       "  </thead>\n",
       "  <tbody>\n",
       "    <tr>\n",
       "      <th>0</th>\n",
       "      <td>1</td>\n",
       "      <td>Ezekiel Elliott*</td>\n",
       "      <td>DAL</td>\n",
       "      <td>23</td>\n",
       "      <td>RB</td>\n",
       "      <td>15</td>\n",
       "      <td>15</td>\n",
       "      <td>304</td>\n",
       "      <td>1434</td>\n",
       "      <td>6</td>\n",
       "      <td>41</td>\n",
       "      <td>4.7</td>\n",
       "      <td>95.6</td>\n",
       "      <td>6</td>\n",
       "    </tr>\n",
       "    <tr>\n",
       "      <th>1</th>\n",
       "      <td>2</td>\n",
       "      <td>Saquon Barkley*</td>\n",
       "      <td>NYG</td>\n",
       "      <td>21</td>\n",
       "      <td>RB</td>\n",
       "      <td>16</td>\n",
       "      <td>16</td>\n",
       "      <td>261</td>\n",
       "      <td>1307</td>\n",
       "      <td>11</td>\n",
       "      <td>78</td>\n",
       "      <td>5.0</td>\n",
       "      <td>81.7</td>\n",
       "      <td>0</td>\n",
       "    </tr>\n",
       "    <tr>\n",
       "      <th>2</th>\n",
       "      <td>3</td>\n",
       "      <td>David Johnson</td>\n",
       "      <td>ARI</td>\n",
       "      <td>27</td>\n",
       "      <td>RB</td>\n",
       "      <td>16</td>\n",
       "      <td>16</td>\n",
       "      <td>258</td>\n",
       "      <td>940</td>\n",
       "      <td>7</td>\n",
       "      <td>53</td>\n",
       "      <td>3.6</td>\n",
       "      <td>58.8</td>\n",
       "      <td>3</td>\n",
       "    </tr>\n",
       "    <tr>\n",
       "      <th>3</th>\n",
       "      <td>4</td>\n",
       "      <td>Todd Gurley*+</td>\n",
       "      <td>LAR</td>\n",
       "      <td>24</td>\n",
       "      <td>RB</td>\n",
       "      <td>14</td>\n",
       "      <td>14</td>\n",
       "      <td>256</td>\n",
       "      <td>1251</td>\n",
       "      <td>17</td>\n",
       "      <td>36</td>\n",
       "      <td>4.9</td>\n",
       "      <td>89.4</td>\n",
       "      <td>1</td>\n",
       "    </tr>\n",
       "    <tr>\n",
       "      <th>4</th>\n",
       "      <td>5</td>\n",
       "      <td>Adrian Peterson</td>\n",
       "      <td>WAS</td>\n",
       "      <td>33</td>\n",
       "      <td>RB</td>\n",
       "      <td>16</td>\n",
       "      <td>16</td>\n",
       "      <td>251</td>\n",
       "      <td>1042</td>\n",
       "      <td>7</td>\n",
       "      <td>90</td>\n",
       "      <td>4.2</td>\n",
       "      <td>65.1</td>\n",
       "      <td>3</td>\n",
       "    </tr>\n",
       "  </tbody>\n",
       "</table>\n",
       "</div>"
      ],
      "text/plain": [
       "   Rk            Player   Tm  Age Pos   G  GS  Att   Yds  TD  Lng  Y/A   Y/G  \\\n",
       "0   1  Ezekiel Elliott*  DAL   23  RB  15  15  304  1434   6   41  4.7  95.6   \n",
       "1   2   Saquon Barkley*  NYG   21  RB  16  16  261  1307  11   78  5.0  81.7   \n",
       "2   3     David Johnson  ARI   27  RB  16  16  258   940   7   53  3.6  58.8   \n",
       "3   4     Todd Gurley*+  LAR   24  RB  14  14  256  1251  17   36  4.9  89.4   \n",
       "4   5   Adrian Peterson  WAS   33  RB  16  16  251  1042   7   90  4.2  65.1   \n",
       "\n",
       "   Fmb  \n",
       "0    6  \n",
       "1    0  \n",
       "2    3  \n",
       "3    1  \n",
       "4    3  "
      ]
     },
     "execution_count": 3,
     "metadata": {},
     "output_type": "execute_result"
    }
   ],
   "source": [
    "rushing.head()"
   ]
  },
  {
   "cell_type": "code",
   "execution_count": 4,
   "metadata": {},
   "outputs": [
    {
     "data": {
      "text/plain": [
       "Text(0.29999999999999716, 0.5, 'Age')"
      ]
     },
     "execution_count": 4,
     "metadata": {},
     "output_type": "execute_result"
    },
    {
     "data": {
      "image/png": "[encoded data removed]",
      "text/plain": [
       "<Figure size 360x360 with 1 Axes>"
      ]
     },
     "metadata": {
      "needs_background": "light"
     },
     "output_type": "display_data"
    }
   ],
   "source": [
    "sns.relplot(x = \"Yds\", y = \"Age\", data = rushing)\n",
    "plt.title(\"Relationship between Age and Total Yards\")\n",
    "plt.xlabel(\"Yards\")\n",
    "plt.ylabel(\"Age\")"
   ]
  },
  {
   "cell_type": "code",
   "execution_count": 12,
   "metadata": {
    "scrolled": true
   },
   "outputs": [
    {
     "data": {
      "text/html": [
       "<div>\n",
       "<style scoped>\n",
       "    .dataframe tbody tr th:only-of-type {\n",
       "        vertical-align: middle;\n",
       "    }\n",
       "\n",
       "    .dataframe tbody tr th {\n",
       "        vertical-align: top;\n",
       "    }\n",
       "\n",
       "    .dataframe thead th {\n",
       "        text-align: right;\n",
       "    }\n",
       "</style>\n",
       "<table border=\"1\" class=\"dataframe\">\n",
       "  <thead>\n",
       "    <tr style=\"text-align: right;\">\n",
       "      <th></th>\n",
       "      <th>Player</th>\n",
       "      <th>Tm</th>\n",
       "      <th>Age</th>\n",
       "      <th>Pos</th>\n",
       "      <th>G</th>\n",
       "      <th>GS</th>\n",
       "      <th>Att</th>\n",
       "      <th>Yds</th>\n",
       "      <th>TD</th>\n",
       "      <th>Lng</th>\n",
       "      <th>Y/A</th>\n",
       "      <th>Y/G</th>\n",
       "      <th>Fmb</th>\n",
       "    </tr>\n",
       "  </thead>\n",
       "  <tbody>\n",
       "    <tr>\n",
       "      <th>4</th>\n",
       "      <td>Adrian Peterson</td>\n",
       "      <td>WAS</td>\n",
       "      <td>33</td>\n",
       "      <td>RB</td>\n",
       "      <td>16</td>\n",
       "      <td>16</td>\n",
       "      <td>251</td>\n",
       "      <td>1042</td>\n",
       "      <td>7</td>\n",
       "      <td>90</td>\n",
       "      <td>4.2</td>\n",
       "      <td>65.1</td>\n",
       "      <td>3</td>\n",
       "    </tr>\n",
       "    <tr>\n",
       "      <th>23</th>\n",
       "      <td>LeSean McCoy</td>\n",
       "      <td>BUF</td>\n",
       "      <td>30</td>\n",
       "      <td>RB</td>\n",
       "      <td>14</td>\n",
       "      <td>13</td>\n",
       "      <td>161</td>\n",
       "      <td>514</td>\n",
       "      <td>3</td>\n",
       "      <td>28</td>\n",
       "      <td>3.2</td>\n",
       "      <td>36.7</td>\n",
       "      <td>0</td>\n",
       "    </tr>\n",
       "    <tr>\n",
       "      <th>24</th>\n",
       "      <td>Frank Gore</td>\n",
       "      <td>MIA</td>\n",
       "      <td>35</td>\n",
       "      <td>RB</td>\n",
       "      <td>14</td>\n",
       "      <td>14</td>\n",
       "      <td>156</td>\n",
       "      <td>722</td>\n",
       "      <td>0</td>\n",
       "      <td>39</td>\n",
       "      <td>4.6</td>\n",
       "      <td>51.6</td>\n",
       "      <td>1</td>\n",
       "    </tr>\n",
       "    <tr>\n",
       "      <th>26</th>\n",
       "      <td>LeGarrette Blount</td>\n",
       "      <td>DET</td>\n",
       "      <td>32</td>\n",
       "      <td>RB</td>\n",
       "      <td>16</td>\n",
       "      <td>8</td>\n",
       "      <td>154</td>\n",
       "      <td>418</td>\n",
       "      <td>5</td>\n",
       "      <td>27</td>\n",
       "      <td>2.7</td>\n",
       "      <td>26.1</td>\n",
       "      <td>2</td>\n",
       "    </tr>\n",
       "    <tr>\n",
       "      <th>42</th>\n",
       "      <td>Chris Ivory</td>\n",
       "      <td>BUF</td>\n",
       "      <td>30</td>\n",
       "      <td>RB</td>\n",
       "      <td>13</td>\n",
       "      <td>1</td>\n",
       "      <td>115</td>\n",
       "      <td>385</td>\n",
       "      <td>1</td>\n",
       "      <td>21</td>\n",
       "      <td>3.3</td>\n",
       "      <td>29.6</td>\n",
       "      <td>1</td>\n",
       "    </tr>\n",
       "    <tr>\n",
       "      <th>45</th>\n",
       "      <td>Alfred Morris</td>\n",
       "      <td>SFO</td>\n",
       "      <td>30</td>\n",
       "      <td>RB</td>\n",
       "      <td>12</td>\n",
       "      <td>1</td>\n",
       "      <td>111</td>\n",
       "      <td>428</td>\n",
       "      <td>2</td>\n",
       "      <td>51</td>\n",
       "      <td>3.9</td>\n",
       "      <td>35.7</td>\n",
       "      <td>2</td>\n",
       "    </tr>\n",
       "    <tr>\n",
       "      <th>53</th>\n",
       "      <td>Marshawn Lynch</td>\n",
       "      <td>OAK</td>\n",
       "      <td>32</td>\n",
       "      <td>RB</td>\n",
       "      <td>6</td>\n",
       "      <td>6</td>\n",
       "      <td>90</td>\n",
       "      <td>376</td>\n",
       "      <td>3</td>\n",
       "      <td>52</td>\n",
       "      <td>4.2</td>\n",
       "      <td>62.7</td>\n",
       "      <td>0</td>\n",
       "    </tr>\n",
       "    <tr>\n",
       "      <th>59</th>\n",
       "      <td>Bilal Powell</td>\n",
       "      <td>NYJ</td>\n",
       "      <td>30</td>\n",
       "      <td>RB</td>\n",
       "      <td>7</td>\n",
       "      <td>7</td>\n",
       "      <td>80</td>\n",
       "      <td>343</td>\n",
       "      <td>0</td>\n",
       "      <td>38</td>\n",
       "      <td>4.3</td>\n",
       "      <td>49.0</td>\n",
       "      <td>2</td>\n",
       "    </tr>\n",
       "    <tr>\n",
       "      <th>64</th>\n",
       "      <td>Russell Wilson*</td>\n",
       "      <td>SEA</td>\n",
       "      <td>30</td>\n",
       "      <td>QB</td>\n",
       "      <td>16</td>\n",
       "      <td>16</td>\n",
       "      <td>67</td>\n",
       "      <td>376</td>\n",
       "      <td>0</td>\n",
       "      <td>40</td>\n",
       "      <td>5.6</td>\n",
       "      <td>23.5</td>\n",
       "      <td>10</td>\n",
       "    </tr>\n",
       "    <tr>\n",
       "      <th>85</th>\n",
       "      <td>Kirk Cousins</td>\n",
       "      <td>MIN</td>\n",
       "      <td>30</td>\n",
       "      <td>QB</td>\n",
       "      <td>16</td>\n",
       "      <td>16</td>\n",
       "      <td>44</td>\n",
       "      <td>123</td>\n",
       "      <td>1</td>\n",
       "      <td>19</td>\n",
       "      <td>2.8</td>\n",
       "      <td>7.7</td>\n",
       "      <td>9</td>\n",
       "    </tr>\n",
       "  </tbody>\n",
       "</table>\n",
       "</div>"
      ],
      "text/plain": [
       "               Player   Tm  Age Pos   G  GS  Att   Yds  TD  Lng  Y/A   Y/G  \\\n",
       "4     Adrian Peterson  WAS   33  RB  16  16  251  1042   7   90  4.2  65.1   \n",
       "23       LeSean McCoy  BUF   30  RB  14  13  161   514   3   28  3.2  36.7   \n",
       "24         Frank Gore  MIA   35  RB  14  14  156   722   0   39  4.6  51.6   \n",
       "26  LeGarrette Blount  DET   32  RB  16   8  154   418   5   27  2.7  26.1   \n",
       "42        Chris Ivory  BUF   30  RB  13   1  115   385   1   21  3.3  29.6   \n",
       "45      Alfred Morris  SFO   30  RB  12   1  111   428   2   51  3.9  35.7   \n",
       "53     Marshawn Lynch  OAK   32  RB   6   6   90   376   3   52  4.2  62.7   \n",
       "59       Bilal Powell  NYJ   30  RB   7   7   80   343   0   38  4.3  49.0   \n",
       "64    Russell Wilson*  SEA   30  QB  16  16   67   376   0   40  5.6  23.5   \n",
       "85       Kirk Cousins  MIN   30  QB  16  16   44   123   1   19  2.8   7.7   \n",
       "\n",
       "    Fmb  \n",
       "4     3  \n",
       "23    0  \n",
       "24    1  \n",
       "26    2  \n",
       "42    1  \n",
       "45    2  \n",
       "53    0  \n",
       "59    2  \n",
       "64   10  \n",
       "85    9  "
      ]
     },
     "execution_count": 12,
     "metadata": {},
     "output_type": "execute_result"
    }
   ],
   "source": [
    "age_filter = rushing[\"Age\"] >= 30\n",
    "age_rushing = rushing[age_filter]\n",
    "age_rushing.drop(columns=['Rk']).head(10)"
   ]
  },
  {
   "cell_type": "code",
   "execution_count": 6,
   "metadata": {},
   "outputs": [
    {
     "data": {
      "text/plain": [
       "Text(10.049999999999997, 0.5, 'Age')"
      ]
     },
     "execution_count": 6,
     "metadata": {},
     "output_type": "execute_result"
    },
    {
     "data": {
      "image/png": "[encoded data removed]",
      "text/plain": [
       "<Figure size 360x360 with 1 Axes>"
      ]
     },
     "metadata": {
      "needs_background": "light"
     },
     "output_type": "display_data"
    }
   ],
   "source": [
    "sns.relplot(x = \"Yds\", y = \"Age\", data = age_rushing)\n",
    "plt.title(\"Relationship between 30+ Yr Olds and Total Yards\")\n",
    "plt.xlabel(\"Yards\")\n",
    "plt.ylabel(\"Age\")"
   ]
  },
  {
   "cell_type": "code",
   "execution_count": 7,
   "metadata": {},
   "outputs": [
    {
     "data": {
      "text/plain": [
       "Text(-2.575000000000003, 0.5, 'Yards')"
      ]
     },
     "execution_count": 7,
     "metadata": {},
     "output_type": "execute_result"
    },
    {
     "data": {
      "image/png": "[encoded data removed]",
      "text/plain": [
       "<Figure size 360x360 with 1 Axes>"
      ]
     },
     "metadata": {
      "needs_background": "light"
     },
     "output_type": "display_data"
    }
   ],
   "source": [
    "sns.relplot(x = \"TD\", y = \"Yds\", data = rushing)\n",
    "plt.title(\"Relationship between Touchdowns and Total Yards\")\n",
    "plt.xlabel(\"Touchdowns\")\n",
    "plt.ylabel(\"Yards\")"
   ]
  },
  {
   "cell_type": "code",
   "execution_count": 8,
   "metadata": {},
   "outputs": [
    {
     "data": {
      "text/plain": [
       "Text(28.096666666666664, 0.5, 'Yards Per Attempt')"
      ]
     },
     "execution_count": 8,
     "metadata": {},
     "output_type": "execute_result"
    },
    {
     "data": {
      "image/png": "[encoded data removed]",
      "text/plain": [
       "<Figure size 409.75x360 with 1 Axes>"
      ]
     },
     "metadata": {
      "needs_background": "light"
     },
     "output_type": "display_data"
    }
   ],
   "source": [
    "sns.relplot(x = \"Yds\", y = \"Y/A\", hue = \"TD\", data = rushing)\n",
    "plt.title(\"Relationship between Yards Per Attempt and Total Yards\")\n",
    "plt.xlabel(\"Yards\")\n",
    "plt.ylabel(\"Yards Per Attempt\")"
   ]
  }
 ],
 "metadata": {
  "kernelspec": {
   "display_name": "Python 3",
   "language": "python",
   "name": "python3"
  },
  "language_info": {
   "codemirror_mode": {
    "name": "ipython",
    "version": 3
   },
   "file_extension": ".py",
   "mimetype": "text/x-python",
   "name": "python",
   "nbconvert_exporter": "python",
   "pygments_lexer": "ipython3",
   "version": "3.7.3"
  }
 },
 "nbformat": 4,
 "nbformat_minor": 2
}
